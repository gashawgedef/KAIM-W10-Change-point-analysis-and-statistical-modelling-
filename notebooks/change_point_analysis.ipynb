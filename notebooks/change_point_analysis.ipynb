{
 "cells": [
  {
   "cell_type": "code",
   "execution_count": 19,
   "metadata": {},
   "outputs": [],
   "source": [
    "\n",
    "# import os\n",
    "# os.chdir(\"c:/Users/ggashaw/Desktop/10 Academy/KAIM-W10-Change-point-analysis-and-statistical-modelling-\")\n",
    "import sys\n",
    "import os\n",
    "\n",
    "sys.path.append(os.path.abspath(\"..\"))  # Move up one directory to access src/\n"
   ]
  },
  {
   "cell_type": "code",
   "execution_count": 20,
   "metadata": {},
   "outputs": [],
   "source": [
    "import pandas as pd\n",
    "from src.time_series_model import fit_arima\n",
    "from src.data_preprocessing import load_and_clean_data\n",
    "from src.exploratory_analysis import plot_price_series, plot_rolling_stats\n",
    "from src.change_point_detection import detect_change_points, plot_change_points\n",
    "from src.time_series_model import fit_arima"
   ]
  },
  {
   "cell_type": "code",
   "execution_count": 21,
   "metadata": {},
   "outputs": [
    {
     "name": "stderr",
     "output_type": "stream",
     "text": [
      "c:\\Users\\HP\\Desktop\\10 academy\\KAIM-W10-Change-point-analysis-and-statistical-modelling-\\src\\data_preprocessing.py:31: UserWarning: Could not infer format, so each element will be parsed individually, falling back to `dateutil`. To ensure parsing is consistent and as-expected, please specify a format.\n",
      "  df = pd.read_csv(file_path, parse_dates=['Date'], dayfirst=True)\n"
     ]
    },
    {
     "name": "stdout",
     "output_type": "stream",
     "text": [
      "Data Loaded and Cleaned:\n",
      "        Date  Price\n",
      "0 1987-05-20  18.63\n",
      "1 1987-05-21  18.45\n",
      "2 1987-05-22  18.55\n",
      "3 1987-05-25  18.60\n",
      "4 1987-05-26  18.63\n"
     ]
    },
    {
     "name": "stderr",
     "output_type": "stream",
     "text": [
      "c:\\Users\\HP\\Desktop\\10 academy\\KAIM-W10-Change-point-analysis-and-statistical-modelling-\\src\\data_preprocessing.py:41: FutureWarning: Series.fillna with 'method' is deprecated and will raise in a future version. Use obj.ffill() or obj.bfill() instead.\n",
      "  df['Price'] = df['Price'].fillna(method='ffill')\n"
     ]
    }
   ],
   "source": [
    "# Cell 2: Load and Clean Data\n",
    "df = load_and_clean_data(\"../data/BrentOilPrices.csv\")\n",
    "print(\"Data Loaded and Cleaned:\")\n",
    "print(df.head())"
   ]
  },
  {
   "cell_type": "code",
   "execution_count": 22,
   "metadata": {},
   "outputs": [
    {
     "name": "stdout",
     "output_type": "stream",
     "text": [
      "EDA plots generated.\n"
     ]
    }
   ],
   "source": [
    "# Cell 3: Exploratory Analysis\n",
    "\n",
    "plot_price_series(df, \"../docs/price_series.png\")\n",
    "plot_rolling_stats(df)\n",
    "print(\"EDA plots generated.\")"
   ]
  },
  {
   "cell_type": "code",
   "execution_count": 23,
   "metadata": {},
   "outputs": [
    {
     "name": "stdout",
     "output_type": "stream",
     "text": [
      "EDA plots generated and saved in '../docs/'\n"
     ]
    }
   ],
   "source": [
    "# Cell 3: Exploratory Analysis\n",
    "plot_price_series(df, \"../docs/price_series.png\")\n",
    "plot_rolling_stats(df)\n",
    "print(\"EDA plots generated and saved in '../docs/'\")\n"
   ]
  },
  {
   "cell_type": "code",
   "execution_count": 35,
   "metadata": {},
   "outputs": [],
   "source": [
    "\n",
    "# Cell 2: Load Data (example)\n",
    "df = pd.read_csv(\"../data/cleaned_brent_oil_prices.csv\", parse_dates=[\"Date\"])\n",
    "\n",
    "# # Cell 4: Change Point Detection\n",
    "# trace = detect_change_points(df)\n",
    "# plot_change_points(df, trace)\n",
    "# print(\"Change points detected and plotted. Plot saved to '../docs/change_points.png'\")\n"
   ]
  },
  {
   "cell_type": "code",
   "execution_count": 25,
   "metadata": {},
   "outputs": [],
   "source": [
    "# # Cell 5: ARIMA Modeling\n",
    "# df.set_index('Date', inplace=True)\n",
    "# results = fit_arima(df)\n",
    "# print(\"ARIMA Results:\")\n",
    "# print(results.summary())"
   ]
  },
  {
   "cell_type": "code",
   "execution_count": 37,
   "metadata": {},
   "outputs": [],
   "source": [
    "# # Cell 5: Time Series Modeling (ARIMA)\n",
    "# # Set Date as index for ARIMA\n",
    "# df_arima = df.set_index(\"Date\")\n",
    "# results = fit_arima(df_arima)\n",
    "# print(\"ARIMA model fitted. Summary:\")\n",
    "# print(results.summary())\n",
    "# print(\"ARIMA plot saved to '../docs/arima_fit.png'\")\n"
   ]
  }
 ],
 "metadata": {
  "kernelspec": {
   "display_name": "venv",
   "language": "python",
   "name": "python3"
  },
  "language_info": {
   "codemirror_mode": {
    "name": "ipython",
    "version": 3
   },
   "file_extension": ".py",
   "mimetype": "text/x-python",
   "name": "python",
   "nbconvert_exporter": "python",
   "pygments_lexer": "ipython3",
   "version": "3.12.0"
  }
 },
 "nbformat": 4,
 "nbformat_minor": 2
}
