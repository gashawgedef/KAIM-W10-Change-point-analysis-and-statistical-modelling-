{
 "cells": [
  {
   "cell_type": "code",
   "execution_count": 12,
   "metadata": {},
   "outputs": [
    {
     "name": "stdout",
     "output_type": "stream",
     "text": [
      "Current Working Directory: c:\\Users\\ggashaw\\Desktop\\10 Academy\\KAIM-W10-Change-point-analysis-and-statistical-modelling-\\notebooks\n",
      "ModuleNotFoundError: No module named 'src'\n",
      "Ensure you are running the script from the correct directory and that the 'src' folder exists.\n",
      "Error: The 'src' directory was not found at C:/Users/ggashaw/Desktop/10 Academy/KAIM-W10-Change-point-analysis-and-statistical-modelling-/week10_interim_submission\\src\n"
     ]
    }
   ],
   "source": [
    "import pandas as pd\n",
    "import os\n",
    "import sys\n",
    "\n",
    "# Ensure the project root is in the path\n",
    "project_root = \"C:/Users/ggashaw/Desktop/10 Academy/KAIM-W10-Change-point-analysis-and-statistical-modelling-/week10_interim_submission\"\n",
    "sys.path.append(project_root)\n",
    "\n",
    "# Verify the working directory\n",
    "print(\"Current Working Directory:\", os.getcwd())\n",
    "\n",
    "try:\n",
    "    from src.data_preprocessing import load_and_clean_data\n",
    "    from src.exploratory_analysis import plot_price_series, plot_rolling_stats\n",
    "    from src.change_point_detection import detect_change_points, plot_change_points\n",
    "    from src.time_series_model import fit_arima\n",
    "except ModuleNotFoundError as e:\n",
    "    print(f\"ModuleNotFoundError: {e}\")\n",
    "    print(\"Ensure you are running the script from the correct directory and that the 'src' folder exists.\")\n",
    "\n",
    "# Debugging: Check if 'src' exists\n",
    "src_path = os.path.join(project_root, \"src\")\n",
    "if not os.path.exists(src_path):\n",
    "    print(f\"Error: The 'src' directory was not found at {src_path}\")\n"
   ]
  },
  {
   "cell_type": "code",
   "execution_count": null,
   "metadata": {},
   "outputs": [],
   "source": []
  },
  {
   "cell_type": "code",
   "execution_count": 14,
   "metadata": {},
   "outputs": [
    {
     "ename": "NameError",
     "evalue": "name 'load_and_clean_data' is not defined",
     "output_type": "error",
     "traceback": [
      "\u001b[1;31m---------------------------------------------------------------------------\u001b[0m",
      "\u001b[1;31mNameError\u001b[0m                                 Traceback (most recent call last)",
      "Cell \u001b[1;32mIn[14], line 2\u001b[0m\n\u001b[0;32m      1\u001b[0m \u001b[38;5;66;03m# Cell 2: Load and Clean Data\u001b[39;00m\n\u001b[1;32m----> 2\u001b[0m df \u001b[38;5;241m=\u001b[39m \u001b[43mload_and_clean_data\u001b[49m(\u001b[38;5;124m\"\u001b[39m\u001b[38;5;124m../data/brent_oil_prices.csv\u001b[39m\u001b[38;5;124m\"\u001b[39m)\n\u001b[0;32m      3\u001b[0m \u001b[38;5;28mprint\u001b[39m(\u001b[38;5;124m\"\u001b[39m\u001b[38;5;124mData Loaded and Cleaned:\u001b[39m\u001b[38;5;124m\"\u001b[39m)\n\u001b[0;32m      4\u001b[0m \u001b[38;5;28mprint\u001b[39m(df\u001b[38;5;241m.\u001b[39mhead())\n",
      "\u001b[1;31mNameError\u001b[0m: name 'load_and_clean_data' is not defined"
     ]
    }
   ],
   "source": [
    "# Cell 2: Load and Clean Data\n",
    "df = load_and_clean_data(\"../data/brent_oil_prices.csv\")\n",
    "print(\"Data Loaded and Cleaned:\")\n",
    "print(df.head())"
   ]
  },
  {
   "cell_type": "code",
   "execution_count": null,
   "metadata": {},
   "outputs": [],
   "source": [
    "# Cell 3: Exploratory Analysis\n",
    "plot_price_series(df, \"../docs/price_series.png\")\n",
    "plot_rolling_stats(df)\n",
    "print(\"EDA plots generated.\")"
   ]
  },
  {
   "cell_type": "code",
   "execution_count": null,
   "metadata": {},
   "outputs": [],
   "source": [
    "# Cell 4: Change Point Detection\n",
    "trace = detect_change_points(df)\n",
    "plot_change_points(df, trace)\n",
    "print(\"Change points detected and plotted.\")"
   ]
  },
  {
   "cell_type": "code",
   "execution_count": null,
   "metadata": {},
   "outputs": [],
   "source": [
    "# Cell 5: ARIMA Modeling\n",
    "df.set_index('Date', inplace=True)\n",
    "results = fit_arima(df)\n",
    "print(\"ARIMA Results:\")\n",
    "print(results.summary())"
   ]
  }
 ],
 "metadata": {
  "kernelspec": {
   "display_name": "venv",
   "language": "python",
   "name": "python3"
  },
  "language_info": {
   "codemirror_mode": {
    "name": "ipython",
    "version": 3
   },
   "file_extension": ".py",
   "mimetype": "text/x-python",
   "name": "python",
   "nbconvert_exporter": "python",
   "pygments_lexer": "ipython3",
   "version": "3.12.0"
  }
 },
 "nbformat": 4,
 "nbformat_minor": 2
}
