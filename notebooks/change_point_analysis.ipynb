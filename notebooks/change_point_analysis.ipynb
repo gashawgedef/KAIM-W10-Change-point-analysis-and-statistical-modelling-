{
 "cells": [
  {
   "cell_type": "code",
   "execution_count": 16,
   "metadata": {},
   "outputs": [],
   "source": [
    "\n",
    "# import os\n",
    "# os.chdir(\"c:/Users/ggashaw/Desktop/10 Academy/KAIM-W10-Change-point-analysis-and-statistical-modelling-\")\n",
    "import sys\n",
    "import os\n",
    "\n",
    "sys.path.append(os.path.abspath(\"..\"))  # Move up one directory to access src/\n"
   ]
  },
  {
   "cell_type": "code",
   "execution_count": 17,
   "metadata": {},
   "outputs": [],
   "source": [
    "\n",
    "import pandas as pd\n",
    "from src.time_series_model import fit_arima\n",
    "from src.data_preprocessing import load_and_clean_data\n",
    "from src.exploratory_analysis import plot_price_series, plot_rolling_stats\n",
    "from src.change_point_detection import detect_change_points, plot_change_points\n",
    "from src.time_series_model import fit_arima"
   ]
  },
  {
   "cell_type": "code",
   "execution_count": 18,
   "metadata": {},
   "outputs": [
    {
     "name": "stderr",
     "output_type": "stream",
     "text": [
      "c:\\Users\\ggashaw\\Desktop\\10 Academy\\KAIM-W10-Change-point-analysis-and-statistical-modelling-\\src\\data_preprocessing.py:5: UserWarning: Could not infer format, so each element will be parsed individually, falling back to `dateutil`. To ensure parsing is consistent and as-expected, please specify a format.\n",
      "  df = pd.read_csv(file_path, parse_dates=['Date'], dayfirst=True)\n"
     ]
    },
    {
     "name": "stdout",
     "output_type": "stream",
     "text": [
      "Data Loaded and Cleaned:\n",
      "        Date  Price\n",
      "0 1987-05-20  18.63\n",
      "1 1987-05-21  18.45\n",
      "2 1987-05-22  18.55\n",
      "3 1987-05-25  18.60\n",
      "4 1987-05-26  18.63\n"
     ]
    },
    {
     "name": "stderr",
     "output_type": "stream",
     "text": [
      "c:\\Users\\ggashaw\\Desktop\\10 Academy\\KAIM-W10-Change-point-analysis-and-statistical-modelling-\\src\\data_preprocessing.py:15: FutureWarning: Series.fillna with 'method' is deprecated and will raise in a future version. Use obj.ffill() or obj.bfill() instead.\n",
      "  df['Price'] = df['Price'].fillna(method='ffill')\n"
     ]
    }
   ],
   "source": [
    "# Cell 2: Load and Clean Data\n",
    "df = load_and_clean_data(\"../data/BrentOilPrices.csv\")\n",
    "print(\"Data Loaded and Cleaned:\")\n",
    "print(df.head())"
   ]
  },
  {
   "cell_type": "code",
   "execution_count": 22,
   "metadata": {},
   "outputs": [
    {
     "name": "stdout",
     "output_type": "stream",
     "text": [
      "EDA plots generated.\n"
     ]
    }
   ],
   "source": [
    "# Cell 3: Exploratory Analysis\n",
    "\n",
    "plot_price_series(df, \"../docs/price_series.png\")\n",
    "plot_rolling_stats(df)\n",
    "print(\"EDA plots generated.\")"
   ]
  },
  {
   "cell_type": "code",
   "execution_count": 23,
   "metadata": {},
   "outputs": [
    {
     "ename": "AttributeError",
     "evalue": "module 'pymc.math' has no attribute 'sort'",
     "output_type": "error",
     "traceback": [
      "\u001b[1;31m---------------------------------------------------------------------------\u001b[0m",
      "\u001b[1;31mAttributeError\u001b[0m                            Traceback (most recent call last)",
      "Cell \u001b[1;32mIn[23], line 2\u001b[0m\n\u001b[0;32m      1\u001b[0m \u001b[38;5;66;03m# Cell 4: Change Point Detection\u001b[39;00m\n\u001b[1;32m----> 2\u001b[0m trace \u001b[38;5;241m=\u001b[39m \u001b[43mdetect_change_points\u001b[49m\u001b[43m(\u001b[49m\u001b[43mdf\u001b[49m\u001b[43m)\u001b[49m\n\u001b[0;32m      3\u001b[0m plot_change_points(df, trace)\n\u001b[0;32m      4\u001b[0m \u001b[38;5;28mprint\u001b[39m(\u001b[38;5;124m\"\u001b[39m\u001b[38;5;124mChange points detected and plotted.\u001b[39m\u001b[38;5;124m\"\u001b[39m)\n",
      "File \u001b[1;32mc:\\Users\\ggashaw\\Desktop\\10 Academy\\KAIM-W10-Change-point-analysis-and-statistical-modelling-\\src\\change_point_detection.py:13\u001b[0m, in \u001b[0;36mdetect_change_points\u001b[1;34m(df, num_change_points)\u001b[0m\n\u001b[0;32m     10\u001b[0m \u001b[38;5;28;01mwith\u001b[39;00m pm\u001b[38;5;241m.\u001b[39mModel() \u001b[38;5;28;01mas\u001b[39;00m model:\n\u001b[0;32m     11\u001b[0m     \u001b[38;5;66;03m# Define change point locations (uniform priors)\u001b[39;00m\n\u001b[0;32m     12\u001b[0m     tau \u001b[38;5;241m=\u001b[39m pm\u001b[38;5;241m.\u001b[39mDiscreteUniform(\u001b[38;5;124m'\u001b[39m\u001b[38;5;124mtau\u001b[39m\u001b[38;5;124m'\u001b[39m, lower\u001b[38;5;241m=\u001b[39m\u001b[38;5;241m0\u001b[39m, upper\u001b[38;5;241m=\u001b[39mn, shape\u001b[38;5;241m=\u001b[39mnum_change_points)\n\u001b[1;32m---> 13\u001b[0m     tau_sorted \u001b[38;5;241m=\u001b[39m pm\u001b[38;5;241m.\u001b[39mDeterministic(\u001b[38;5;124m'\u001b[39m\u001b[38;5;124mtau_sorted\u001b[39m\u001b[38;5;124m'\u001b[39m, \u001b[43mpm\u001b[49m\u001b[38;5;241;43m.\u001b[39;49m\u001b[43mmath\u001b[49m\u001b[38;5;241;43m.\u001b[39;49m\u001b[43msort\u001b[49m(tau))\n\u001b[0;32m     15\u001b[0m     \u001b[38;5;66;03m# Define means for each segment\u001b[39;00m\n\u001b[0;32m     16\u001b[0m     mu \u001b[38;5;241m=\u001b[39m pm\u001b[38;5;241m.\u001b[39mNormal(\u001b[38;5;124m'\u001b[39m\u001b[38;5;124mmu\u001b[39m\u001b[38;5;124m'\u001b[39m, mu\u001b[38;5;241m=\u001b[39mprices\u001b[38;5;241m.\u001b[39mmean(), sd\u001b[38;5;241m=\u001b[39mprices\u001b[38;5;241m.\u001b[39mstd(), shape\u001b[38;5;241m=\u001b[39mnum_change_points \u001b[38;5;241m+\u001b[39m \u001b[38;5;241m1\u001b[39m)\n",
      "\u001b[1;31mAttributeError\u001b[0m: module 'pymc.math' has no attribute 'sort'"
     ]
    }
   ],
   "source": [
    "# Cell 4: Change Point Detection\n",
    "trace = detect_change_points(df)\n",
    "plot_change_points(df, trace)\n",
    "print(\"Change points detected and plotted.\")"
   ]
  },
  {
   "cell_type": "code",
   "execution_count": 25,
   "metadata": {},
   "outputs": [
    {
     "ename": "KeyError",
     "evalue": "\"None of ['Date'] are in the columns\"",
     "output_type": "error",
     "traceback": [
      "\u001b[1;31m---------------------------------------------------------------------------\u001b[0m",
      "\u001b[1;31mKeyError\u001b[0m                                  Traceback (most recent call last)",
      "\u001b[1;32m~\\AppData\\Local\\Temp\\ipykernel_4324\\291202060.py\u001b[0m in \u001b[0;36m?\u001b[1;34m()\u001b[0m\n\u001b[0;32m      1\u001b[0m \u001b[1;31m# Cell 5: ARIMA Modeling\u001b[0m\u001b[1;33m\u001b[0m\u001b[1;33m\u001b[0m\u001b[0m\n\u001b[1;32m----> 2\u001b[1;33m \u001b[0mdf\u001b[0m\u001b[1;33m.\u001b[0m\u001b[0mset_index\u001b[0m\u001b[1;33m(\u001b[0m\u001b[1;34m'Date'\u001b[0m\u001b[1;33m,\u001b[0m \u001b[0minplace\u001b[0m\u001b[1;33m=\u001b[0m\u001b[1;32mTrue\u001b[0m\u001b[1;33m)\u001b[0m\u001b[1;33m\u001b[0m\u001b[1;33m\u001b[0m\u001b[0m\n\u001b[0m\u001b[0;32m      3\u001b[0m \u001b[0mresults\u001b[0m \u001b[1;33m=\u001b[0m \u001b[0mfit_arima\u001b[0m\u001b[1;33m(\u001b[0m\u001b[0mdf\u001b[0m\u001b[1;33m)\u001b[0m\u001b[1;33m\u001b[0m\u001b[1;33m\u001b[0m\u001b[0m\n\u001b[0;32m      4\u001b[0m \u001b[0mprint\u001b[0m\u001b[1;33m(\u001b[0m\u001b[1;34m\"ARIMA Results:\"\u001b[0m\u001b[1;33m)\u001b[0m\u001b[1;33m\u001b[0m\u001b[1;33m\u001b[0m\u001b[0m\n\u001b[0;32m      5\u001b[0m \u001b[0mprint\u001b[0m\u001b[1;33m(\u001b[0m\u001b[0mresults\u001b[0m\u001b[1;33m.\u001b[0m\u001b[0msummary\u001b[0m\u001b[1;33m(\u001b[0m\u001b[1;33m)\u001b[0m\u001b[1;33m)\u001b[0m\u001b[1;33m\u001b[0m\u001b[1;33m\u001b[0m\u001b[0m\n",
      "\u001b[1;32mc:\\Users\\ggashaw\\Desktop\\10 Academy\\KAIM-W10-Change-point-analysis-and-statistical-modelling-\\venv\\Lib\\site-packages\\pandas\\core\\frame.py\u001b[0m in \u001b[0;36m?\u001b[1;34m(self, keys, drop, append, inplace, verify_integrity)\u001b[0m\n\u001b[0;32m   6118\u001b[0m                     \u001b[1;32mif\u001b[0m \u001b[1;32mnot\u001b[0m \u001b[0mfound\u001b[0m\u001b[1;33m:\u001b[0m\u001b[1;33m\u001b[0m\u001b[1;33m\u001b[0m\u001b[0m\n\u001b[0;32m   6119\u001b[0m                         \u001b[0mmissing\u001b[0m\u001b[1;33m.\u001b[0m\u001b[0mappend\u001b[0m\u001b[1;33m(\u001b[0m\u001b[0mcol\u001b[0m\u001b[1;33m)\u001b[0m\u001b[1;33m\u001b[0m\u001b[1;33m\u001b[0m\u001b[0m\n\u001b[0;32m   6120\u001b[0m \u001b[1;33m\u001b[0m\u001b[0m\n\u001b[0;32m   6121\u001b[0m         \u001b[1;32mif\u001b[0m \u001b[0mmissing\u001b[0m\u001b[1;33m:\u001b[0m\u001b[1;33m\u001b[0m\u001b[1;33m\u001b[0m\u001b[0m\n\u001b[1;32m-> 6122\u001b[1;33m             \u001b[1;32mraise\u001b[0m \u001b[0mKeyError\u001b[0m\u001b[1;33m(\u001b[0m\u001b[1;33mf\"\u001b[0m\u001b[1;33mNone of \u001b[0m\u001b[1;33m{\u001b[0m\u001b[0mmissing\u001b[0m\u001b[1;33m}\u001b[0m\u001b[1;33m are in the columns\u001b[0m\u001b[1;33m\"\u001b[0m\u001b[1;33m)\u001b[0m\u001b[1;33m\u001b[0m\u001b[1;33m\u001b[0m\u001b[0m\n\u001b[0m\u001b[0;32m   6123\u001b[0m \u001b[1;33m\u001b[0m\u001b[0m\n\u001b[0;32m   6124\u001b[0m         \u001b[1;32mif\u001b[0m \u001b[0minplace\u001b[0m\u001b[1;33m:\u001b[0m\u001b[1;33m\u001b[0m\u001b[1;33m\u001b[0m\u001b[0m\n\u001b[0;32m   6125\u001b[0m             \u001b[0mframe\u001b[0m \u001b[1;33m=\u001b[0m \u001b[0mself\u001b[0m\u001b[1;33m\u001b[0m\u001b[1;33m\u001b[0m\u001b[0m\n",
      "\u001b[1;31mKeyError\u001b[0m: \"None of ['Date'] are in the columns\""
     ]
    }
   ],
   "source": [
    "# Cell 5: ARIMA Modeling\n",
    "df.set_index('Date', inplace=True)\n",
    "results = fit_arima(df)\n",
    "print(\"ARIMA Results:\")\n",
    "print(results.summary())"
   ]
  }
 ],
 "metadata": {
  "kernelspec": {
   "display_name": "venv",
   "language": "python",
   "name": "python3"
  },
  "language_info": {
   "codemirror_mode": {
    "name": "ipython",
    "version": 3
   },
   "file_extension": ".py",
   "mimetype": "text/x-python",
   "name": "python",
   "nbconvert_exporter": "python",
   "pygments_lexer": "ipython3",
   "version": "3.12.0"
  }
 },
 "nbformat": 4,
 "nbformat_minor": 2
}
